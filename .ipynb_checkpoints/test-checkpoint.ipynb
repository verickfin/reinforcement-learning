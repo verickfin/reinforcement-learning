{
 "cells": [
  {
   "cell_type": "code",
   "execution_count": null,
   "metadata": {
    "pycharm": {
     "is_executing": true,
     "name": "#%%\n"
    }
   },
   "outputs": [],
   "source": [
    "from __future__ import print_function\n",
    "from builtins import range\n",
    "import MalmoPython\n",
    "import os\n",
    "import sys\n",
    "import time\n",
    "\n",
    "if sys.version_info[0] == 2:\n",
    "    sys.stdout = os.fdopen(sys.stdout.fileno(), 'w', 0)  # flush print output immediately\n",
    "else:\n",
    "    import functools\n",
    "    print = functools.partial(print, flush=True)\n",
    "\n",
    "# Create default Malmo objects:\n",
    "\n",
    "agent_host = MalmoPython.AgentHost()\n",
    "try:\n",
    "    agent_host.parse( sys.argv )\n",
    "except RuntimeError as e:\n",
    "    print('ERROR:',e)\n",
    "    print(agent_host.getUsage())\n",
    "    exit(1)\n",
    "if agent_host.receivedArgument(\"help\"):\n",
    "    print(agent_host.getUsage())\n",
    "    exit(0)\n",
    "\n",
    "my_mission = MalmoPython.MissionSpec()\n",
    "my_mission_record = MalmoPython.MissionRecordSpec()\n",
    "\n",
    "# Attempt to start a mission:\n",
    "max_retries = 3\n",
    "for retry in range(max_retries):\n",
    "    try:\n",
    "        agent_host.startMission( my_mission, my_mission_record )\n",
    "        break\n",
    "    except RuntimeError as e:\n",
    "        if retry == max_retries - 1:\n",
    "            print(\"Error starting mission:\",e)\n",
    "            exit(1)\n",
    "        else:\n",
    "            time.sleep(2)\n",
    "\n",
    "# Loop until mission starts:\n",
    "print(\"Waiting for the mission to start \", end=' ')\n",
    "world_state = agent_host.getWorldState()\n",
    "while not world_state.has_mission_begun:\n",
    "    print(\".\", end=\"\")\n",
    "    time.sleep(0.1)\n",
    "    world_state = agent_host.getWorldState()\n",
    "    for error in world_state.errors:\n",
    "        print(\"Error:\",error.text)\n",
    "\n",
    "print()\n",
    "print(\"Mission running \", end=' ')\n",
    "\n",
    "# Loop until mission ends:\n",
    "while world_state.is_mission_running:\n",
    "    print(\".\", end=\"\")\n",
    "    time.sleep(0.1)\n",
    "    world_state = agent_host.getWorldState()\n",
    "    for error in world_state.errors:\n",
    "        print(\"Error:\",error.text)\n",
    "\n",
    "print()\n",
    "print(\"Mission ended\")\n",
    "# Mission has ended.\n",
    "\n"
   ]
  },
  {
   "cell_type": "code",
   "execution_count": null,
   "metadata": {},
   "outputs": [],
   "source": []
  }
 ],
 "metadata": {
  "kernelspec": {
   "display_name": "Python 3",
   "language": "python",
   "name": "python3"
  },
  "language_info": {
   "codemirror_mode": {
    "name": "ipython",
    "version": 2
   },
   "file_extension": ".py",
   "mimetype": "text/x-python",
   "name": "python",
   "nbconvert_exporter": "python",
   "pygments_lexer": "ipython2",
   "version": "2.7.6"
  },
  "pycharm": {
   "stem_cell": {
    "cell_type": "raw",
    "metadata": {
     "collapsed": false
    },
    "source": []
   }
  }
 },
 "nbformat": 4,
 "nbformat_minor": 1
}
